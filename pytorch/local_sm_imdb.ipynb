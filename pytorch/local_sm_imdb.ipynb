{
 "cells": [
  {
   "cell_type": "code",
   "execution_count": null,
   "id": "prime-offset",
   "metadata": {},
   "outputs": [],
   "source": [
    "import os\n",
    "import sys\n",
    "import logging\n",
    "\n",
    "import numpy as np\n",
    "import pandas as pd\n",
    "from sagemaker.local import LocalSession\n",
    "import sagemaker\n",
    "from sagemaker.pytorch import PyTorch"
   ]
  },
  {
   "cell_type": "code",
   "execution_count": null,
   "id": "realistic-rwanda",
   "metadata": {},
   "outputs": [],
   "source": [
    "LOCAL = True"
   ]
  },
  {
   "cell_type": "code",
   "execution_count": null,
   "id": "oriental-republic",
   "metadata": {},
   "outputs": [],
   "source": [
    "# Set up logging\n",
    "logger = logging.getLogger(__name__)\n",
    "\n",
    "logging.basicConfig(\n",
    "    level=logging.getLevelName(\"INFO\"),\n",
    "    handlers=[logging.StreamHandler(sys.stdout)],\n",
    "    format=\"%(asctime)s - %(name)s - %(levelname)s - %(message)s\",\n",
    ")"
   ]
  },
  {
   "cell_type": "code",
   "execution_count": null,
   "id": "coastal-hudson",
   "metadata": {},
   "outputs": [],
   "source": [
    "if LOCAL:\n",
    "    session = LocalSession()\n",
    "    session.config = {\"local\": {\"local_code\": True}}\n",
    "    bucket = \".\"\n",
    "    role = \"arn:aws:iam::111111111111:role/service-role/AmazonSageMaker-ExecutionRole-20200101T000001\"\n",
    "    region = \"local\"\n",
    "    train_input_path = \"file://./data/train\"\n",
    "    val_input_path = \"file://./data/val\"\n",
    "    test_input_path = \"file://./data/test\"\n",
    "\n",
    "else:\n",
    "\n",
    "    session = sagemaker.Session()\n",
    "    # sagemaker session bucket -> used for uploading data, models and logs\n",
    "    # sagemaker will automatically create this bucket if it not exists\n",
    "    bucket = \"quantsagemaker\"\n",
    "    if bucket is None and sess is not None:\n",
    "        # set to default bucket if a bucket name is not given\n",
    "        bucket = session.default_bucket()\n",
    "\n",
    "    role = sagemaker.get_execution_role()\n",
    "    session = sagemaker.Session(default_bucket=sagemaker_session_bucket)\n",
    "    region = session.boto_region_name\n",
    "\n",
    "print(f\"sagemaker role arn: {role}\")\n",
    "print(f\"sagemaker bucket: {bucket}\")\n",
    "print(f\"sagemaker session region: {region}\")"
   ]
  },
  {
   "cell_type": "markdown",
   "id": "04bfb00c-43f3-4810-86bc-db4f488b7baa",
   "metadata": {},
   "source": [
    "## Training"
   ]
  },
  {
   "cell_type": "code",
   "execution_count": null,
   "id": "shared-spectrum",
   "metadata": {},
   "outputs": [],
   "source": [
    "hyperparameters = {\n",
    "    \"epochs\": 1,\n",
    "    \"train_batch_size\": 32,\n",
    "    \"model_name\": \"distilbert-base-uncased\",\n",
    "}\n",
    "estimator = PyTorch(\n",
    "    entry_point=\"train.py\",\n",
    "    source_dir=\"./code\",\n",
    "    role=role,\n",
    "    framework_version=\"1.7.1\",\n",
    "    py_version=\"py3\",\n",
    "    instance_count=1,\n",
    "    instance_type=\"local\",\n",
    "    hyperparameters=hyperparameters,\n",
    ")\n",
    "estimator.fit({'training': train_input_path, 'validating': val_input_path, 'testing': test_input_path})"
   ]
  },
  {
   "cell_type": "markdown",
   "id": "edfcf0c3-5984-415e-a642-74df58a27aa6",
   "metadata": {},
   "source": [
    "## Inference"
   ]
  },
  {
   "cell_type": "code",
   "execution_count": null,
   "id": "0ff0ad12-7477-41e9-8a99-a0a815b0d401",
   "metadata": {},
   "outputs": [],
   "source": [
    "model_data = estimator.model_data\n",
    "print(model_data)"
   ]
  },
  {
   "cell_type": "code",
   "execution_count": null,
   "id": "19b20206-6eec-4c46-bd2f-e14e246b9859",
   "metadata": {
    "scrolled": true
   },
   "outputs": [],
   "source": [
    "from sagemaker.pytorch.model import PyTorchModel \n",
    "\n",
    "pytorch_model = PyTorchModel(model_data=model_data,\n",
    "                             role=role,\n",
    "                             framework_version=\"1.7.1\",\n",
    "                             source_dir=\"code\",\n",
    "                             py_version=\"py3\",\n",
    "                             entry_point=\"inference.py\")\n",
    "\n",
    "predictor = pytorch_model.deploy(initial_instance_count=1, instance_type=\"local\")"
   ]
  },
  {
   "cell_type": "code",
   "execution_count": null,
   "id": "618bf328-bea8-472e-bb93-3e8b9edce9b3",
   "metadata": {},
   "outputs": [],
   "source": [
    "predictor.serializer = sagemaker.serializers.JSONSerializer()\n",
    "predictor.deserializer = sagemaker.deserializers.StringDeserializer()"
   ]
  },
  {
   "cell_type": "code",
   "execution_count": null,
   "id": "5c295c4d-b542-46e3-9be1-382940872270",
   "metadata": {},
   "outputs": [],
   "source": [
    "predictor = estimator.deploy(initial_instance_count=1, instance_type=\"local\")"
   ]
  },
  {
   "cell_type": "code",
   "execution_count": null,
   "id": "9c3ebb52-d430-4b02-adbd-08a0f2df4fbc",
   "metadata": {},
   "outputs": [],
   "source": [
    "predictor.predict(['this is a very good movie'])"
   ]
  }
 ],
 "metadata": {
  "kernelspec": {
   "display_name": "Python 3",
   "language": "python",
   "name": "python3"
  },
  "language_info": {
   "codemirror_mode": {
    "name": "ipython",
    "version": 3
   },
   "file_extension": ".py",
   "mimetype": "text/x-python",
   "name": "python",
   "nbconvert_exporter": "python",
   "pygments_lexer": "ipython3",
   "version": "3.8.5"
  }
 },
 "nbformat": 4,
 "nbformat_minor": 5
}
