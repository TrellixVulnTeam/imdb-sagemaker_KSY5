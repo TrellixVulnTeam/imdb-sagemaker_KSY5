{
 "cells": [
  {
   "cell_type": "code",
   "execution_count": null,
   "id": "prime-offset",
   "metadata": {},
   "outputs": [],
   "source": [
    "import os\n",
    "import sys\n",
    "import logging\n",
    "\n",
    "import numpy as np\n",
    "import pandas as pd\n",
    "from sagemaker.local import LocalSession\n",
    "import sagemaker\n",
    "from sagemaker.pytorch import PyTorch\n",
    "import torch"
   ]
  },
  {
   "cell_type": "code",
   "execution_count": null,
   "id": "coastal-hudson",
   "metadata": {},
   "outputs": [],
   "source": [
    "session = LocalSession()\n",
    "session.config = {\"local\": {\"local_code\": True}}\n",
    "bucket = sagemaker_session.default_bucket()\n",
    "role = \"arn:aws:iam::111111111111:role/service-role/AmazonSageMaker-ExecutionRole-20200101T000001\"\n",
    "region = sagemaker_session.region\n",
    "train_input_path = f\"s3://{bucket}/imdb/data/train.csv\"\n",
    "test_input_path = f\"s3://{bucket}/imdb/data/test.csv\"\n",
    "\n",
    "print(f\"sagemaker role arn: {role}\")\n",
    "print(f\"sagemaker bucket: {bucket}\")\n",
    "print(f\"sagemaker session region: {region}\")"
   ]
  },
  {
   "cell_type": "markdown",
   "id": "04bfb00c-43f3-4810-86bc-db4f488b7baa",
   "metadata": {},
   "source": [
    "## Training"
   ]
  },
  {
   "cell_type": "code",
   "execution_count": null,
   "id": "shared-spectrum",
   "metadata": {},
   "outputs": [],
   "source": [
    "hyperparameters = {\n",
    "    \"epochs\": 1,\n",
    "    \"train_batch_size\": 32,\n",
    "    \"model_name\": \"distilbert-base-uncased\",\n",
    "}\n",
    "estimator = PyTorch(\n",
    "    entry_point=\"train.py\",\n",
    "    source_dir=\"source\",\n",
    "    role=role,\n",
    "    framework_version=\"1.7.1\",\n",
    "    py_version=\"py3\",\n",
    "    instance_count=1,\n",
    "    instance_type=\"local\",\n",
    "    hyperparameters=hyperparameters,\n",
    ")\n",
    "estimator.fit({'train': train_input_path, 'test': test_input_path})"
   ]
  },
  {
   "cell_type": "markdown",
   "id": "edfcf0c3-5984-415e-a642-74df58a27aa6",
   "metadata": {},
   "source": [
    "## Inference"
   ]
  },
  {
   "cell_type": "code",
   "execution_count": null,
   "id": "d55e4a69-4cb8-4cdd-aac1-97b933bdbcd8",
   "metadata": {},
   "outputs": [],
   "source": [
    "# model_data = estimator.model_data\n",
    "model_data = 's3://sagemaker-eu-central-1-611215368770/pytorch-training-2021-06-01-16-57-40-514/model.tar.gz'\n",
    "print(model_data)"
   ]
  },
  {
   "cell_type": "code",
   "execution_count": null,
   "id": "d3b5ecd9-7412-47bf-9620-08b4161064ec",
   "metadata": {},
   "outputs": [],
   "source": [
    "from sagemaker.pytorch.model import PyTorchModel\n",
    "\n",
    "pytorch_model = PyTorchModel(\n",
    "    model_data=\"s3://sagemaker-eu-central-1-611215368770/pytorch-training-2021-06-01-09-20-56-523/model.tar.gz\",\n",
    "    role=role,\n",
    "    framework_version=\"1.7.1\",\n",
    "    source_dir=\"source\",\n",
    "    py_version=\"py3\",\n",
    "    entry_point=\"inference.py\",\n",
    ")\n"
   ]
  },
  {
   "cell_type": "markdown",
   "id": "619e76b3-5cb4-43ed-832b-8aafb2e7517c",
   "metadata": {},
   "source": [
    "### Endpoint"
   ]
  },
  {
   "cell_type": "code",
   "execution_count": null,
   "id": "92be8ef6-213d-4cea-ba71-bc5f3f9b42a3",
   "metadata": {},
   "outputs": [],
   "source": [
    "predictor = pytorch_model.deploy(\n",
    "    initial_instance_count=1,\n",
    "    instance_type=\"local\",\n",
    "    serializer=sagemaker.serializers.JSONSerializer(),\n",
    "    deserializer=sagemaker.deserializers.StringDeserializer(),\n",
    ")"
   ]
  },
  {
   "cell_type": "code",
   "execution_count": null,
   "id": "5a780223-6579-4eaa-a6f5-4ad019395e91",
   "metadata": {},
   "outputs": [],
   "source": [
    "input_1 = \"this is a very good movie\"\n",
    "predictor.predict(input_1)"
   ]
  },
  {
   "cell_type": "code",
   "execution_count": null,
   "id": "bdd9f5d7-2762-427b-8db5-c2fcdf7c4a58",
   "metadata": {},
   "outputs": [],
   "source": [
    "input_2 = ['this movie sucks', 'this movie is ok']\n",
    "predictor.predict(input_2)"
   ]
  },
  {
   "cell_type": "code",
   "execution_count": null,
   "id": "06ad0c05-bec6-4e24-8511-fda4e2223bf3",
   "metadata": {},
   "outputs": [],
   "source": [
    "input_3 = ['such a terrible movie', 'what a great movie', 'omg best movie ever']\n",
    "predictor.predict(input_3)"
   ]
  },
  {
   "cell_type": "code",
   "execution_count": null,
   "id": "398b03a9-9ccb-4060-9366-cd8feb230cc3",
   "metadata": {},
   "outputs": [],
   "source": [
    "predictor.delete_endpoint()"
   ]
  },
  {
   "cell_type": "markdown",
   "id": "bd604ef0-83a5-46d5-ab09-0a9763568854",
   "metadata": {},
   "source": [
    "### Batch Transform"
   ]
  },
  {
   "cell_type": "code",
   "execution_count": null,
   "id": "3e478390-2724-4257-9da6-b4b2229683c7",
   "metadata": {},
   "outputs": [],
   "source": [
    "transformer = pytorch_model.transformer(instance_count=1, instance_type=\"local\", accept='text/csv')"
   ]
  },
  {
   "cell_type": "code",
   "execution_count": null,
   "id": "96f932a2-3ce8-4f13-a500-c3367f21036d",
   "metadata": {},
   "outputs": [],
   "source": [
    "transformer.transform(test_input_path, content_type='text/csv', split_type='Line')"
   ]
  },
  {
   "cell_type": "code",
   "execution_count": null,
   "id": "354dfaed-84ce-4bf5-a1fa-a6416a99fe98",
   "metadata": {},
   "outputs": [],
   "source": [
    "!aws s3 cp --recursive $transformer.output_path ./"
   ]
  },
  {
   "cell_type": "code",
   "execution_count": null,
   "id": "db4a8819-98b7-44fa-9e98-436fb884afb4",
   "metadata": {},
   "outputs": [],
   "source": [
    "res = pd.read_csv(f\"{transformer.output_path.split('/')[-1]}/test.csv.out\", header=None)\n",
    "res"
   ]
  },
  {
   "cell_type": "markdown",
   "id": "c5a7c974-c313-4b47-92f6-0d2a13dc1702",
   "metadata": {},
   "source": [
    "### Local"
   ]
  },
  {
   "cell_type": "code",
   "execution_count": null,
   "id": "5edae09b-bd90-436d-a80d-2366abcc93a9",
   "metadata": {},
   "outputs": [],
   "source": [
    "%%sh -s $estimator.model_data\n",
    "rm -rf model\n",
    "mkdir model\n",
    "aws s3 cp $1 model/ \n",
    "tar xvzf model/model.tar.gz --directory ./model"
   ]
  },
  {
   "cell_type": "code",
   "execution_count": null,
   "id": "cc525e9c-4bb3-40ef-9e9d-38d5c846de9d",
   "metadata": {},
   "outputs": [],
   "source": [
    "# pytorch_model.bin stores fine-tuned huggingface\n",
    "# tokenizer_config.json stores tokenizer used for training\n",
    "\n",
    "from transformers import AutoModelForSequenceClassification, AutoTokenizer, AutoConfig\n",
    "\n",
    "model = AutoModelForSequenceClassification.from_pretrained('model')\n",
    "tokenizer = AutoTokenizer.from_pretrained('model')"
   ]
  },
  {
   "cell_type": "code",
   "execution_count": null,
   "id": "63770d20-e486-45d1-babe-a257e87afa5e",
   "metadata": {},
   "outputs": [],
   "source": [
    "inputs = ['this is a terrific movie']"
   ]
  },
  {
   "cell_type": "code",
   "execution_count": null,
   "id": "317de04b-fecc-4cdc-b1db-679f23cf7114",
   "metadata": {},
   "outputs": [],
   "source": [
    "tokenized_input = tokenizer(inputs, truncation=True, padding=True)"
   ]
  },
  {
   "cell_type": "code",
   "execution_count": null,
   "id": "000b387d-9424-4d47-9365-6fe34bbc0eec",
   "metadata": {},
   "outputs": [],
   "source": [
    "input_ids = torch.Tensor(tokenized_input['input_ids']).long()\n",
    "attention_mask = torch.Tensor(tokenized_input['attention_mask']).long()"
   ]
  },
  {
   "cell_type": "code",
   "execution_count": null,
   "id": "213eeade-6464-4508-a566-c909d7178dc3",
   "metadata": {},
   "outputs": [],
   "source": [
    "model.eval()\n",
    "with torch.no_grad():\n",
    "    logits = model(input_ids, attention_mask).logits\n",
    "    res = np.argmax(logits)\n",
    "    print('logits:', logits, 'neg/pos:', res)"
   ]
  }
 ],
 "metadata": {
  "kernelspec": {
   "display_name": "Python 3",
   "language": "python",
   "name": "python3"
  },
  "language_info": {
   "codemirror_mode": {
    "name": "ipython",
    "version": 3
   },
   "file_extension": ".py",
   "mimetype": "text/x-python",
   "name": "python",
   "nbconvert_exporter": "python",
   "pygments_lexer": "ipython3",
   "version": "3.8.5"
  }
 },
 "nbformat": 4,
 "nbformat_minor": 5
}
