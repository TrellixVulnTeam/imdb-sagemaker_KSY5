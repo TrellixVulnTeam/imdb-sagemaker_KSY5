{
 "cells": [
  {
   "cell_type": "code",
   "execution_count": null,
   "id": "db602f8e-b775-4298-afdd-69bc1d427fdd",
   "metadata": {},
   "outputs": [],
   "source": [
    "%%bash\n",
    "wget http://ai.stanford.edu/~amaas/data/sentiment/aclImdb_v1.tar.gz\n",
    "tar -xf aclImdb_v1.tar.gz"
   ]
  },
  {
   "cell_type": "code",
   "execution_count": null,
   "id": "48735e81-1402-4bb8-81c1-b6e470a65c08",
   "metadata": {},
   "outputs": [],
   "source": [
    "from pathlib import Path\n",
    "\n",
    "def read_imdb_split(split_dir):\n",
    "    split_dir = Path(split_dir)\n",
    "    texts = []\n",
    "    labels = []\n",
    "    for label_dir in [\"pos\", \"neg\"]:\n",
    "        for text_file in (split_dir/label_dir).iterdir():\n",
    "            texts.append(text_file.read_text())\n",
    "            labels.append(0 if label_dir == \"neg\" else 1)\n",
    "\n",
    "    return texts, labels\n",
    "\n",
    "train_texts, train_labels = read_imdb_split('aclImdb/train')\n",
    "test_texts, test_labels = read_imdb_split('aclImdb/test')"
   ]
  },
  {
   "cell_type": "code",
   "execution_count": null,
   "id": "58d14c4c-e6d5-42e7-9f8c-c5542e49feaa",
   "metadata": {},
   "outputs": [],
   "source": [
    "from sklearn.model_selection import train_test_split\n",
    "train_texts, val_texts, train_labels, val_labels = train_test_split(train_texts, train_labels, test_size=.2)"
   ]
  },
  {
   "cell_type": "code",
   "execution_count": null,
   "id": "5de5c206-c8be-450d-a39e-3e11dfc618ce",
   "metadata": {},
   "outputs": [],
   "source": [
    "import pandas as pd\n",
    "\n",
    "train = pd.DataFrame({'text': train_texts, 'label': train_labels})\n",
    "val = pd.DataFrame({'text': val_texts, 'label': val_labels})\n",
    "test = pd.DataFrame({'text': test_texts, 'label': test_labels})"
   ]
  },
  {
   "cell_type": "code",
   "execution_count": null,
   "id": "6f28e514-6c57-46a1-9156-49fd1de7c577",
   "metadata": {},
   "outputs": [],
   "source": [
    "import os\n",
    "\n",
    "os.makedirs('data/train', exist_ok=True)\n",
    "os.makedirs('data/val', exist_ok=True)\n",
    "os.makedirs('data/test', exist_ok=True)\n",
    "\n",
    "train.to_csv('data/train/data.csv', index=False, )\n",
    "val.to_csv('data/val/data.csv', index=False)\n",
    "test.to_csv('data/test/data.csv', index=False)"
   ]
  }
 ],
 "metadata": {
  "kernelspec": {
   "display_name": "Python 3",
   "language": "python",
   "name": "python3"
  },
  "language_info": {
   "codemirror_mode": {
    "name": "ipython",
    "version": 3
   },
   "file_extension": ".py",
   "mimetype": "text/x-python",
   "name": "python",
   "nbconvert_exporter": "python",
   "pygments_lexer": "ipython3",
   "version": "3.8.5"
  }
 },
 "nbformat": 4,
 "nbformat_minor": 5
}
