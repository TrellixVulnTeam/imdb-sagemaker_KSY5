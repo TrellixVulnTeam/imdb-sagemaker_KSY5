{
 "cells": [
  {
   "cell_type": "code",
   "execution_count": null,
   "id": "2c3b5de0-00ad-4e5c-9101-01200edee1bd",
   "metadata": {},
   "outputs": [],
   "source": [
    "!pip install datasets"
   ]
  },
  {
   "cell_type": "code",
   "execution_count": null,
   "id": "19f06f6a-e42b-4ae7-807e-88a34a11f540",
   "metadata": {},
   "outputs": [],
   "source": [
    "from datasets import load_dataset\n",
    "\n",
    "# load dataset\n",
    "dataset = load_dataset(\"imdb\")\n",
    "train_dataset, test_dataset = load_dataset(\"imdb\", split=[\"train\", \"test\"])\n",
    "\n",
    "train_dataset = train_dataset.to_pandas()\n",
    "test_dataset = test_dataset.to_pandas()"
   ]
  },
  {
   "cell_type": "code",
   "execution_count": null,
   "id": "5624c56c-56bd-4f35-9a9d-cd74572ccdd3",
   "metadata": {},
   "outputs": [],
   "source": [
    "# Make sure that texts are encoded in utf-8\n",
    "train_dataset[\"text\"] = train_dataset[\"text\"].apply(lambda x: x.encode(\"utf-8\"))\n",
    "test_dataset[\"text\"] = test_dataset[\"text\"].apply(lambda x: x.encode(\"utf-8\"))"
   ]
  },
  {
   "cell_type": "code",
   "execution_count": null,
   "id": "1b92ce2b-cf53-4ec4-9c0c-bb9686cad864",
   "metadata": {},
   "outputs": [],
   "source": [
    "# Get smaller sample\n",
    "sample = 200\n",
    "small_train_dataset = train_dataset.sample(sample)\n",
    "small_test_dataset = test_dataset.sample(sample)"
   ]
  },
  {
   "cell_type": "code",
   "execution_count": null,
   "id": "6f28e514-6c57-46a1-9156-49fd1de7c577",
   "metadata": {},
   "outputs": [],
   "source": [
    "import os\n",
    "\n",
    "os.makedirs(\"data/small\", exist_ok=True)\n",
    "\n",
    "train_dataset.to_csv(\"data/train.csv\", index=False)\n",
    "test_dataset.to_csv(\"data/test.csv\", index=False)\n",
    "\n",
    "small_train_dataset.to_csv(\"data/small/train.csv\", index=False)\n",
    "small_test_dataset.to_csv(\"data/small/test.csv\", index=False)"
   ]
  },
  {
   "cell_type": "code",
   "execution_count": null,
   "id": "a13a2c03-f7c7-4dc2-9b8a-40f64ad01eeb",
   "metadata": {},
   "outputs": [],
   "source": [
    "import sagemaker\n",
    "\n",
    "sagemaker_session = sagemaker.Session()\n",
    "\n",
    "bucket = sagemaker_session.default_bucket()\n",
    "prefix = \"imdb/data\"\n",
    "small_prefix = \"imdb/data/small\"\n",
    "\n",
    "role = sagemaker.get_execution_role()"
   ]
  },
  {
   "cell_type": "code",
   "execution_count": null,
   "id": "e917629f-f74a-4fa2-9c0b-50838d45783e",
   "metadata": {},
   "outputs": [],
   "source": [
    "sagemaker_session.upload_data(\"data/train.csv\", bucket=bucket, key_prefix=prefix)\n",
    "sagemaker_session.upload_data(\"data/test.csv\", bucket=bucket, key_prefix=prefix)\n",
    "sagemaker_session.upload_data(\n",
    "    \"data/small/train.csv\", bucket=bucket, key_prefix=small_prefix\n",
    ")\n",
    "sagemaker_session.upload_data(\n",
    "    \"data/small/test.csv\", bucket=bucket, key_prefix=small_prefix\n",
    ")"
   ]
  },
  {
   "cell_type": "code",
   "execution_count": null,
   "id": "075f5740-0b00-4d03-9720-2158a91c6cf6",
   "metadata": {},
   "outputs": [],
   "source": [
    "import io\n",
    "\n",
    "import boto3\n",
    "import pandas as pd\n",
    "import sagemaker\n",
    "\n",
    "sagemaker_session = sagemaker.Session()\n",
    "\n",
    "bucket = sagemaker_session.default_bucket()\n",
    "\n",
    "s3_resource = boto3.resource(\"s3\")\n",
    "\n",
    "response = s3_resource.Bucket(bucket).Object(key=\"imdb/data/small/test.csv\").get()\n",
    "data = pd.read_csv(io.BytesIO(response[\"Body\"].read()), encoding=\"utf-8\")"
   ]
  }
 ],
 "metadata": {
  "kernelspec": {
   "display_name": "Python 3",
   "language": "python",
   "name": "python3"
  },
  "language_info": {
   "codemirror_mode": {
    "name": "ipython",
    "version": 3
   },
   "file_extension": ".py",
   "mimetype": "text/x-python",
   "name": "python",
   "nbconvert_exporter": "python",
   "pygments_lexer": "ipython3",
   "version": "3.8.5"
  }
 },
 "nbformat": 4,
 "nbformat_minor": 5
}