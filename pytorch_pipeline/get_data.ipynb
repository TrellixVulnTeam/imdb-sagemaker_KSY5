{
 "cells": [
  {
   "cell_type": "code",
   "execution_count": null,
   "id": "2c3b5de0-00ad-4e5c-9101-01200edee1bd",
   "metadata": {},
   "outputs": [],
   "source": [
    "!pip install datasets"
   ]
  },
  {
   "cell_type": "code",
   "execution_count": null,
   "id": "19f06f6a-e42b-4ae7-807e-88a34a11f540",
   "metadata": {},
   "outputs": [],
   "source": [
    "from datasets import load_dataset\n",
    "\n",
    "# load dataset\n",
    "dataset = load_dataset(\"imdb\", split='train').to_pandas()\n",
    "\n",
    "sample = 200\n",
    "small_dataset = dataset.sample(sample)"
   ]
  },
  {
   "cell_type": "code",
   "execution_count": null,
   "id": "6f28e514-6c57-46a1-9156-49fd1de7c577",
   "metadata": {},
   "outputs": [],
   "source": [
    "import os\n",
    "\n",
    "os.makedirs(\"data/small\", exist_ok=True)\n",
    "\n",
    "dataset.to_csv(\"data/raw.csv\", index=False)\n",
    "small_dataset.to_csv(\"data/small/raw.csv\", index=False)"
   ]
  },
  {
   "cell_type": "code",
   "execution_count": null,
   "id": "a13a2c03-f7c7-4dc2-9b8a-40f64ad01eeb",
   "metadata": {},
   "outputs": [],
   "source": [
    "import sagemaker\n",
    "\n",
    "sagemaker_session = sagemaker.Session()\n",
    "\n",
    "bucket = sagemaker_session.default_bucket()\n",
    "prefix = \"imdb/processing/raw\"\n",
    "small_prefix = prefix + \"/small\"\n",
    "\n",
    "role = sagemaker.get_execution_role()"
   ]
  },
  {
   "cell_type": "code",
   "execution_count": null,
   "id": "e917629f-f74a-4fa2-9c0b-50838d45783e",
   "metadata": {},
   "outputs": [],
   "source": [
    "raw_s3_path = sagemaker_session.upload_data(\"data/raw.csv\", bucket=bucket, key_prefix=prefix)\n",
    "small_raw_s3_path = sagemaker_session.upload_data(\"data/small/raw.csv\", bucket=bucket, key_prefix=small_prefix)"
   ]
  },
  {
   "cell_type": "code",
   "execution_count": null,
   "id": "075f5740-0b00-4d03-9720-2158a91c6cf6",
   "metadata": {},
   "outputs": [],
   "source": [
    "import pandas as pd\n",
    "raw_data = pd.read_csv(small_raw_s3_path)"
   ]
  }
 ],
 "metadata": {
  "kernelspec": {
   "display_name": "Python 3",
   "language": "python",
   "name": "python3"
  },
  "language_info": {
   "codemirror_mode": {
    "name": "ipython",
    "version": 3
   },
   "file_extension": ".py",
   "mimetype": "text/x-python",
   "name": "python",
   "nbconvert_exporter": "python",
   "pygments_lexer": "ipython3",
   "version": "3.8.5"
  }
 },
 "nbformat": 4,
 "nbformat_minor": 5
}
